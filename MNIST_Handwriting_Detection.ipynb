{
  "cells": [
    {
      "cell_type": "markdown",
      "source": [
        "#Installation:"
      ],
      "metadata": {
        "id": "RZn4e_MM-jKF"
      }
    },
    {
      "cell_type": "markdown",
      "source": [
        "We are installing these following libraries for our machine learning project - Handwriting Detection using MNISt dataset. \n",
        "We wanted to have an interactive window where the user can write down numbers and have the model predict its value. This is \n",
        "achieved with the help of keras and tensorflow (for the machine learning part) and pygame and open-cv (for the input window \n",
        "and writing part)."
      ],
      "metadata": {
        "id": "iwajbrGE7IqW"
      }
    },
    {
      "cell_type": "code",
      "source": [
        "!pip install pygame\n",
        "!pip install keras\n",
        "!pip install tensorflow \n",
        "!pip install opencv-python"
      ],
      "metadata": {
        "id": "nlDpDiIk7MpA"
      },
      "execution_count": null,
      "outputs": []
    },
    {
      "cell_type": "markdown",
      "source": [
        "Here, we import the required modules for input window, array conversion of pixel values of the input images, plotting the required \n",
        "accuracy and loss values during training, and the rest for loading the model and dataset and to train them."
      ],
      "metadata": {
        "id": "MCdkb4ci7Ogs"
      }
    },
    {
      "cell_type": "code",
      "source": [
        "import cv2\n",
        "import numpy as np\n",
        "import matplotlib.pyplot as plt\n",
        "from tensorflow.keras.models import load_model\n",
        "from keras.datasets import mnist\n",
        "\n",
        "%matplotlib inline"
      ],
      "metadata": {
        "id": "57JkPzOo7Rwb"
      },
      "execution_count": null,
      "outputs": []
    },
    {
      "cell_type": "markdown",
      "source": [
        "We have loaded the training and testing data into their respective variables. Now we will see the shape of the training model and\n",
        "then make our calculations based on that."
      ],
      "metadata": {
        "id": "VrcdWYpe7UD6"
      }
    },
    {
      "cell_type": "code",
      "source": [
        "(train_x,train_y),(test_x,test_y) = mnist.load_data()\n",
        "train_x.shape\n"
      ],
      "metadata": {
        "id": "4JfcU8Vr7WYO"
      },
      "execution_count": null,
      "outputs": []
    },
    {
      "cell_type": "markdown",
      "source": [
        "We will now plot an image, located at index 1 of the training dataset and map it to grayscale."
      ],
      "metadata": {
        "id": "Vzqnnu4f7ZGt"
      }
    },
    {
      "cell_type": "code",
      "source": [
        "plt.imshow(train_x[1],cmap='gray')"
      ],
      "metadata": {
        "id": "zW-DRXzL7bof"
      },
      "execution_count": null,
      "outputs": []
    },
    {
      "cell_type": "code",
      "source": [
        "train_y"
      ],
      "metadata": {
        "id": "MZzcc-pz7gnh"
      },
      "execution_count": null,
      "outputs": []
    },
    {
      "cell_type": "markdown",
      "source": [
        "Normalize and reshaping our X data. We have converted the pixels to decimal values and then saveit for hot encoding."
      ],
      "metadata": {
        "id": "Ps-pFrLl7e3p"
      }
    },
    {
      "cell_type": "code",
      "source": [
        "train_x = train_x.reshape(-1,28,28,1)\n",
        "test_x  = test_x.reshape(-1,28,28,1)\n",
        "\n",
        "train_x = train_x.astype('float32')\n",
        "test_x  = test_x.astype('float32')\n",
        "\n",
        "train_x = train_x/255\n",
        "test_x  = test_x/255\n"
      ],
      "metadata": {
        "id": "IsQbRMnj7m0n"
      },
      "execution_count": null,
      "outputs": []
    },
    {
      "cell_type": "markdown",
      "source": [
        "one hot encode our y data. Using the method to_categorical(), a numpy array (or) a vector which has integers that represent \n",
        "different categories, can be converted into a numpy array (or) a matrix which has binary values and has columns equal to the \n",
        "number of categories in the data.\n"
      ],
      "metadata": {
        "id": "9KFwwm9r7opI"
      }
    },
    {
      "cell_type": "code",
      "source": [
        "from keras.utils import np_utils \n",
        "train_y = np_utils.to_categorical(train_y)\n",
        "test_y  = np_utils.to_categorical(test_y)"
      ],
      "metadata": {
        "id": "UsagaG1n7sc9"
      },
      "execution_count": null,
      "outputs": []
    },
    {
      "cell_type": "markdown",
      "source": [
        "Again checking for the made changes."
      ],
      "metadata": {
        "id": "Qn7RZ3vj7ubt"
      }
    },
    {
      "cell_type": "code",
      "source": [
        "train_y[1]"
      ],
      "metadata": {
        "id": "i5963TpX7wu1"
      },
      "execution_count": null,
      "outputs": []
    },
    {
      "cell_type": "markdown",
      "source": [
        "#Creating our model"
      ],
      "metadata": {
        "id": "Q-7wgFwG7zdd"
      }
    },
    {
      "cell_type": "markdown",
      "source": [
        "A Sequential model is appropriate for a plain stack of layers where each layer has exactly one input tensor\n",
        "and one output tensor.\n",
        "\n",
        "Now fixing the input shape as required. In grayscale format and 28x28 pixels"
      ],
      "metadata": {
        "id": "11flz17j73MU"
      }
    },
    {
      "cell_type": "code",
      "source": [
        "input_shape=(28,28,1)\n",
        "\n",
        "from tensorflow.keras.models import Sequential\n",
        "from tensorflow.keras.layers import Conv2D,Flatten,Dropout,Dense,MaxPooling2D\n",
        "from tensorflow.keras.optimizers import SGD\n",
        "model = Sequential()"
      ],
      "metadata": {
        "id": "qMO_3R_n76Ia"
      },
      "execution_count": null,
      "outputs": []
    },
    {
      "cell_type": "markdown",
      "source": [
        "Keras Conv2D is a 2D Convolution Layer, this layer creates a \n",
        "convolution kernel that is wind with layers input which helps produce a tensor of outputs."
      ],
      "metadata": {
        "id": "kzakS7Bx78hQ"
      }
    },
    {
      "cell_type": "code",
      "source": [
        "model.add(Conv2D(32,kernel_size=(3,3),activation='relu',input_shape=input_shape,padding='SAME'))\n",
        "model.add(MaxPooling2D(pool_size=(2,2)))"
      ],
      "metadata": {
        "id": "7Qjsa_Mk7-xo"
      },
      "execution_count": null,
      "outputs": []
    },
    {
      "cell_type": "markdown",
      "source": [
        "It’s just a thing function that you use to get the output of node. It is also known as Transfer Function.\n",
        "\n",
        "It is used to determine the output of neural network like yes or no. It maps the resulting values in between \n",
        "0 to 1 or -1 to 1 etc. (depending upon the function)."
      ],
      "metadata": {
        "id": "SgbbCXqY8BIy"
      }
    },
    {
      "cell_type": "code",
      "source": [
        "model.add(Conv2D(64,(3,3),activation='relu',padding='SAME'))"
      ],
      "metadata": {
        "id": "QvAvtZiw8HSN"
      },
      "execution_count": null,
      "outputs": []
    },
    {
      "cell_type": "markdown",
      "source": [
        "The tf.layers.maxPooling2d() function is used to apply max pooling operation on spatial data."
      ],
      "metadata": {
        "id": "HVglh6aZ8JPF"
      }
    },
    {
      "cell_type": "code",
      "source": [
        "model.add(MaxPooling2D(pool_size=(2,2)))"
      ],
      "metadata": {
        "id": "qgRKLDnq8M7-"
      },
      "execution_count": null,
      "outputs": []
    },
    {
      "cell_type": "markdown",
      "source": [
        "Keras dropout is a mechanism that helps reduce odds while overfitting for every epoch of the model by following the method\n",
        "of dropping, skipping the neurons present in the neural network in a random fashion. When the approach followed is of minibatch,\n",
        "then this dropping or skipping of a neuron is carried out for every individual minibatch."
      ],
      "metadata": {
        "id": "N54HA4TS8RA-"
      }
    },
    {
      "cell_type": "code",
      "source": [
        "model.add(Dropout(0.25))"
      ],
      "metadata": {
        "id": "rfEJBRdc8Tzi"
      },
      "execution_count": null,
      "outputs": []
    },
    {
      "cell_type": "markdown",
      "source": [
        "Flatten is used to flatten the input. For example, if flatten is applied to layer having input shape as\n",
        "(batch_size, 2,2), then the output shape of the layer will be (batch_size, 4)"
      ],
      "metadata": {
        "id": "yk-enR7e8VkV"
      }
    },
    {
      "cell_type": "code",
      "source": [
        "model.add(Flatten())\n",
        "model.add(Dense(128,activation='relu'))\n",
        "model.add(Dropout(0.5))\n",
        "model.add(Dense(10,activation='softmax'))"
      ],
      "metadata": {
        "id": "LHlXJEXK8aIa"
      },
      "execution_count": null,
      "outputs": []
    },
    {
      "cell_type": "markdown",
      "source": [
        "Compiling the data on the basis of 'accuracy' metrics."
      ],
      "metadata": {
        "id": "_qCDLX8i8c0p"
      }
    },
    {
      "cell_type": "code",
      "source": [
        "model.compile(loss='categorical_crossentropy',\n",
        "              optimizer='adam',\n",
        "              metrics=['accuracy'])\n",
        "\n",
        "print(model.summary())\n",
        "\n",
        "#model.compile(optimizer =\"rmsprop\", loss =\"categorical_crossentropy\",metrics =['accuracy'])"
      ],
      "metadata": {
        "id": "F3mgJdnj8eim"
      },
      "execution_count": null,
      "outputs": []
    },
    {
      "cell_type": "markdown",
      "source": [
        "#Training our data\n",
        "In terms of artificial neural networks, an epoch refers to one cycle through the full training dataset. \n",
        "Usually, training a neural network takes more than a few epochs.\n"
      ],
      "metadata": {
        "id": "n-e9qT6w8hj7"
      }
    },
    {
      "cell_type": "code",
      "source": [
        "#batch_size=32\n",
        "epochs=10\n",
        "#from keras.callbacks import EarlyStopping\n",
        "from keras.callbacks import EarlyStopping, ModelCheckpoint\n",
        "earlystop=EarlyStopping(monitor='val_acc',min_delta=0.01, patience=4, verbose=1)\n",
        "modelcheck=ModelCheckpoint(\"./MNIST_file.h5\",monitor='val_accuracy', verbose=1, save_best_only=True)\n",
        "callback=[earlystop,modelcheck]\n",
        "plotting_data = model.fit(train_x,\n",
        "                          train_y,\n",
        "                          validation_split=0.3, \n",
        "                          callbacks=callback,\n",
        "                          epochs=50,\n",
        "                          verbose=1,\n",
        "                          validation_data=(test_x,test_y))\n",
        "#plotting_data = model.fit(train_x, train_y, validation_split=0.3,callbacks=EarlyStopping(monitor='val_loss', verbose=1))\n",
        "#verbose set to 1 for only watching the training metrics, loss and precision data.\n",
        "loss,accuracy = model.evaluate(test_x,test_y,verbose=0)\n"
      ],
      "metadata": {
        "id": "Yi5aoVKG8rwb"
      },
      "execution_count": null,
      "outputs": []
    },
    {
      "cell_type": "code",
      "source": [
        "print('Test loss ---> ',str(round(loss*100,2)) +str('%'))\n",
        "print('Test accuracy ---> ',str(round(accuracy*100,2)) +str('%'))"
      ],
      "metadata": {
        "id": "u2JyAWO-8wjB"
      },
      "execution_count": null,
      "outputs": []
    },
    {
      "cell_type": "markdown",
      "source": [
        "#Plotting the required loss and accuracy data with epochs being the value being plotted against."
      ],
      "metadata": {
        "id": "-Q46GvvH82_f"
      }
    },
    {
      "cell_type": "code",
      "source": [
        "plotting_data_dict = plotting_data.history\n",
        "\n",
        "test_loss = plotting_data_dict['val_loss']\n",
        "training_loss = plotting_data_dict['loss']\n",
        "test_accuracy = plotting_data_dict['val_accuracy']\n",
        "training_accuracy = plotting_data_dict['accuracy']\n",
        "\n",
        "epochs = range(1,len(test_loss)+1)\n",
        "\n",
        "plt.plot(epochs,test_loss,marker='X',label='test_loss')\n",
        "plt.plot(epochs,training_loss,marker='X',label='training_loss')\n",
        "plt.legend()"
      ],
      "metadata": {
        "id": "6bP0INzf81jt"
      },
      "execution_count": null,
      "outputs": []
    },
    {
      "cell_type": "code",
      "source": [
        "plt.plot(epochs,test_accuracy,marker='X',label='test_accuracy')\n",
        "plt.plot(epochs,training_accuracy,marker='X',label='training_accuracy')\n",
        "plt.legend()"
      ],
      "metadata": {
        "id": "n9Y7vncT89Ff"
      },
      "execution_count": null,
      "outputs": []
    },
    {
      "cell_type": "markdown",
      "source": [
        "#Save the model to the file and then load for using it to predict the written values from the user."
      ],
      "metadata": {
        "id": "ci1cP4x98_s1"
      }
    },
    {
      "cell_type": "code",
      "source": [
        "model.save('MNIST_file.h5')\n",
        "\n",
        "print('Model Saved !!!')\n"
      ],
      "metadata": {
        "id": "_No2OFGg9Azq"
      },
      "execution_count": null,
      "outputs": []
    },
    {
      "cell_type": "markdown",
      "source": [
        "#This code block uses openc-cv to make the input window. Now we take in input from the user."
      ],
      "metadata": {
        "id": "bQDvc77S9DWH"
      }
    },
    {
      "cell_type": "code",
      "source": [
        "import cv2\n",
        "import numpy as np\n",
        "import matplotlib.pyplot as plt\n",
        "from tensorflow.keras.models import load_model\n",
        "from keras.datasets import mnist\n",
        "\n",
        "%matplotlib inline\n",
        "classifier = load_model('bestmodel.h5')"
      ],
      "metadata": {
        "id": "4bADeVHX9IEJ"
      },
      "execution_count": null,
      "outputs": []
    },
    {
      "cell_type": "code",
      "source": [
        "drawing=False\n",
        "cv2.namedWindow('drawing board')\n",
        "black_image = np.zeros((256,256,3),np.uint8)\n",
        "ix,iy=-1,-1\n",
        "\n",
        "def draw_circles(event,x,y,flags,param):\n",
        "    global ix,iy,drawing\n",
        "    if event== cv2.EVENT_LBUTTONDOWN:\n",
        "        drawing=True\n",
        "        ix,iy=x,y\n",
        "        \n",
        "    elif event==cv2.EVENT_MOUSEMOVE:\n",
        "        if drawing==True:\n",
        "            cv2.circle(black_image,(x,y),5,(255,255,255),-1)\n",
        "            \n",
        "    elif event==cv2.EVENT_LBUTTONUP:\n",
        "        drawing = False\n",
        "        \n",
        "cv2.setMouseCallback('drawing board',draw_circles)\n",
        "\n",
        "while True:\n",
        "    \n",
        "    cv2.imshow('drawing board',black_image)\n",
        "    if cv2.waitKey(1)==27:\n",
        "        break\n",
        "    elif cv2.waitKey(1)==13:\n",
        "        input_img = cv2.resize(black_image,(28,28))\n",
        "        input_img = cv2.cvtColor(input_img,cv2.COLOR_BGR2GRAY)\n",
        "        input_img = input_img.reshape(1,28,28,1)\n",
        "        res=(model.predict(input_img,1,verbose=0)[0])\n",
        "        #res = classifier.predict_classes(input_img,1,verbose=0)[0]\n",
        "        #print(res.index(1))\n",
        "        #print(np.where(res==1))\n",
        "        cv2.putText(black_image,text=str(np.where(res==1)[0][0]),org=(205,30),fontFace=cv2.FONT_HERSHEY_SIMPLEX,fontScale=1,color=(255,255,255),thickness=2)\n",
        "    elif cv2.waitKey(1)==ord('c'):\n",
        "        black_image = np.zeros((256,256,3),np.uint8)\n",
        "        ix,iy=-1,-1\n",
        "cv2.destroyAllWindows()"
      ],
      "metadata": {
        "id": "gYOBVLAR9KTH"
      },
      "execution_count": null,
      "outputs": []
    },
    {
      "cell_type": "markdown",
      "source": [
        "\n",
        "Now, we will set few keys for functionality for the drawing board. The keys are as follows:\n",
        "\n",
        "**mouse button hold** : To draw the number on the black window.\n",
        "\n",
        "**mouse button up**:   To let the code crop out the image and keep the image saved as buffer for prediction.\n",
        "\n",
        "**c**:                 Clear the drawing board.\n",
        "\n",
        "**Enter** :             To display the predicted value after the model runs over the drawing.\n",
        "\n",
        "**Esc**:               To exit the window and terminated the program.\n"
      ],
      "metadata": {
        "id": "bdcZirz79Rn6"
      }
    }
  ],
  "metadata": {
    "colab": {
      "toc_visible": true,
      "provenance": []
    },
    "kernelspec": {
      "display_name": "Python 3",
      "name": "python3"
    }
  },
  "nbformat": 4,
  "nbformat_minor": 0
}